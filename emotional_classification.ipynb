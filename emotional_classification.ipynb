{
  "nbformat": 4,
  "nbformat_minor": 0,
  "metadata": {
    "colab": {
      "provenance": []
    },
    "kernelspec": {
      "name": "python3",
      "display_name": "Python 3"
    },
    "language_info": {
      "name": "python"
    }
  },
  "cells": [
    {
      "cell_type": "code",
      "source": [
        "from google.colab import drive\n",
        "drive.mount('/content/MyDrive/')"
      ],
      "metadata": {
        "colab": {
          "base_uri": "https://localhost:8080/"
        },
        "id": "B9fzv8LjpnJT",
        "outputId": "777c98da-4d15-449c-dfa7-0ca38621cbd0"
      },
      "execution_count": null,
      "outputs": [
        {
          "output_type": "stream",
          "name": "stdout",
          "text": [
            "Mounted at /content/MyDrive/\n"
          ]
        }
      ]
    },
    {
      "cell_type": "code",
      "execution_count": null,
      "metadata": {
        "id": "OBGkfHAhpkYD"
      },
      "outputs": [],
      "source": [
        "train_dir = \"/content/MyDrive/MyDrive/M.Sc Data Science/Sem 4/CV/archive-2/train\"\n",
        "test_dir  = \"/content/MyDrive/MyDrive/M.Sc Data Science/Sem 4/CV/archive-2/test\""
      ]
    },
    {
      "cell_type": "code",
      "source": [
        "import os\n",
        "import numpy as np\n",
        "from PIL import Image\n",
        "from sklearn.model_selection import train_test_split\n",
        "from sklearn.metrics import classification_report, confusion_matrix\n",
        "import torch\n",
        "import torch.nn as nn\n",
        "import torch.optim as optim\n",
        "from torchvision import datasets, transforms, models\n",
        "from torch.utils.data import DataLoader, Dataset\n",
        "from tqdm import tqdm\n"
      ],
      "metadata": {
        "id": "Gx9iGZktpzuB"
      },
      "execution_count": null,
      "outputs": []
    },
    {
      "cell_type": "code",
      "source": [
        "# Device configuration\n",
        "device = torch.device(\"cuda\" if torch.cuda.is_available() else \"cpu\")\n",
        "print(f\"Using device: {device}\")\n",
        "\n",
        "# Parameters\n",
        "IMG_SIZE = 224\n",
        "BATCH_SIZE = 32\n",
        "NUM_CLASSES = 7  # Adjust according to your dataset (e.g., 7 emotions)\n",
        "EPOCHS = 20\n",
        "LEARNING_RATE = 1e-3\n",
        "PATIENCE = 5  # For EarlyStopping\n",
        "\n",
        "# === I. Data Preprocessing & Loading ===\n",
        "\n",
        "# Define transforms with normalization according to ImageNet stats (for EfficientNet / ResNet)\n",
        "data_transforms = {\n",
        "    \"train\": transforms.Compose([\n",
        "        transforms.Resize((IMG_SIZE, IMG_SIZE)),\n",
        "        transforms.RandomHorizontalFlip(),\n",
        "        transforms.ToTensor(),\n",
        "        transforms.Normalize([0.485, 0.456, 0.406],  # mean for ImageNet\n",
        "                             [0.229, 0.224, 0.225])  # std for ImageNet\n",
        "    ]),\n",
        "    \"val\": transforms.Compose([\n",
        "        transforms.Resize((IMG_SIZE, IMG_SIZE)),\n",
        "        transforms.ToTensor(),\n",
        "        transforms.Normalize([0.485, 0.456, 0.406],\n",
        "                             [0.229, 0.224, 0.225])\n",
        "    ]),\n",
        "    \"test\": transforms.Compose([\n",
        "        transforms.Resize((IMG_SIZE, IMG_SIZE)),\n",
        "        transforms.ToTensor(),\n",
        "        transforms.Normalize([0.485, 0.456, 0.406],\n",
        "                             [0.229, 0.224, 0.225])\n",
        "    ]),\n",
        "}\n",
        "\n",
        "# Custom Dataset class for loading image files & labels if labels are in folder structure or CSV\n",
        "class EmotionDataset(Dataset):\n",
        "    def __init__(self, root_dir, transform=None):\n",
        "        super().__init__()\n",
        "        self.root_dir = root_dir\n",
        "        self.transform = transform\n",
        "\n",
        "        # Assuming the folder structure: root_dir/class_x/xxx.png\n",
        "        # Filter out non-directory entries like .DS_Store\n",
        "        self.classes = sorted([d for d in os.listdir(root_dir) if os.path.isdir(os.path.join(root_dir, d))])\n",
        "        self.class_to_idx = {cls_name: idx for idx, cls_name in enumerate(self.classes)}\n",
        "\n",
        "        # Collect all image paths and labels\n",
        "        self.images = []\n",
        "        self.labels = []\n",
        "        for cls in self.classes:\n",
        "            cls_folder = os.path.join(root_dir, cls)\n",
        "            # Filter out non-file entries within class folders\n",
        "            for img_name in os.listdir(cls_folder):\n",
        "                 img_path = os.path.join(cls_folder, img_name)\n",
        "                 if os.path.isfile(img_path): # Check if it's a file\n",
        "                    self.images.append(img_path)\n",
        "                    self.labels.append(self.class_to_idx[cls])\n",
        "\n",
        "    def __len__(self):\n",
        "        return len(self.images)\n",
        "\n",
        "    def __getitem__(self, idx):\n",
        "        image_path = self.images[idx]\n",
        "        label = self.labels[idx]\n",
        "        image = Image.open(image_path).convert(\"RGB\")\n",
        "        if self.transform:\n",
        "            image = self.transform(image)\n",
        "        return image, label\n",
        "\n",
        "# Load full training data, then split into train and val\n",
        "full_dataset = EmotionDataset(train_dir, transform=data_transforms['train'])\n",
        "\n",
        "train_size = int(0.8 * len(full_dataset))\n",
        "val_size = len(full_dataset) - train_size\n",
        "train_dataset, val_dataset = torch.utils.data.random_split(full_dataset, [train_size, val_size])\n",
        "\n",
        "# Update validation dataset transforms (no augmentation)\n",
        "# This part of the code is problematic when using random_split\n",
        "# random_split returns Subset objects, not the original dataset instance.\n",
        "# Modifying the transform on val_dataset.dataset will affect the original\n",
        "# full_dataset, which train_dataset is also a subset of.\n",
        "# A better approach is to apply the transforms directly within __getitem__\n",
        "# based on whether it's the training or validation split, or create separate\n",
        "# dataset instances for train and validation after the split.\n",
        "# For now, let's comment this line out to avoid unintended side effects.\n",
        "# val_dataset.dataset.transform = data_transforms['val']\n",
        "\n",
        "\n",
        "# Test dataset\n",
        "test_dataset = EmotionDataset(test_dir, transform=data_transforms['test'])\n",
        "\n",
        "# Data loaders\n",
        "# It is better to get the actual dataset object from the Subset\n",
        "train_loader = DataLoader(train_dataset, batch_size=BATCH_SIZE, shuffle=True, num_workers=16, pin_memory=True)\n",
        "val_loader = DataLoader(val_dataset, batch_size=BATCH_SIZE, shuffle=False, num_workers=16, pin_memory=True)\n",
        "test_loader = DataLoader(test_dataset, batch_size=BATCH_SIZE, shuffle=False, num_workers=16, pin_memory=True)\n",
        "\n",
        "print(f\"Train size: {len(train_dataset)}, Val size: {len(val_dataset)}, Test size: {len(test_dataset)}\")\n"
      ],
      "metadata": {
        "colab": {
          "base_uri": "https://localhost:8080/"
        },
        "id": "HZn5cIgswqmM",
        "outputId": "86199f37-2c3a-47d5-85b2-d7eaefd226de"
      },
      "execution_count": null,
      "outputs": [
        {
          "output_type": "stream",
          "name": "stdout",
          "text": [
            "Using device: cuda\n",
            "Train size: 23959, Val size: 5990, Test size: 8218\n"
          ]
        },
        {
          "output_type": "stream",
          "name": "stderr",
          "text": [
            "/usr/local/lib/python3.11/dist-packages/torch/utils/data/dataloader.py:624: UserWarning: This DataLoader will create 16 worker processes in total. Our suggested max number of worker in current system is 2, which is smaller than what this DataLoader is going to create. Please be aware that excessive worker creation might get DataLoader running slow or even freeze, lower the worker number to avoid potential slowness/freeze if necessary.\n",
            "  warnings.warn(\n"
          ]
        }
      ]
    },
    {
      "cell_type": "code",
      "source": [
        "# === II. Model Definition with Transfer Learning ===\n",
        "\n",
        "def create_model(base_model_name='efficientnet_b0', num_classes=NUM_CLASSES, pretrained=True):\n",
        "    if base_model_name == 'efficientnet_b0':\n",
        "        model = models.efficientnet_b0(pretrained=pretrained)\n",
        "        # Freeze base layers initially\n",
        "        for param in model.parameters():\n",
        "            param.requires_grad = False\n",
        "        # Replace classifier head\n",
        "        in_features = model.classifier[1].in_features\n",
        "        model.classifier = nn.Sequential(\n",
        "            nn.Dropout(0.3),\n",
        "            nn.Linear(in_features, 128),\n",
        "            nn.ReLU(),\n",
        "            nn.Dropout(0.3),\n",
        "            nn.Linear(128, num_classes),\n",
        "        )\n",
        "    elif base_model_name == 'resnet50':\n",
        "        model = models.resnet50(pretrained=pretrained)\n",
        "        for param in model.parameters():\n",
        "            param.requires_grad = False\n",
        "        in_features = model.fc.in_features\n",
        "        model.fc = nn.Sequential(\n",
        "            nn.Linear(in_features, 128),\n",
        "            nn.ReLU(),\n",
        "            nn.Dropout(0.3),\n",
        "            nn.Linear(128, num_classes),\n",
        "        )\n",
        "    else:\n",
        "        raise ValueError(\"Unsupported model name\")\n",
        "    return model.to(device)\n",
        "\n",
        "model = create_model('efficientnet_b0', NUM_CLASSES)\n",
        "\n",
        "# === III. Training Utilities ===\n",
        "\n",
        "criterion = nn.CrossEntropyLoss()\n",
        "optimizer = optim.Adam(model.classifier.parameters(), lr=LEARNING_RATE)\n",
        "scheduler = optim.lr_scheduler.ReduceLROnPlateau(optimizer, mode='max', factor=0.5, patience=2, verbose=True)\n",
        "\n",
        "# Early stopping class\n",
        "class EarlyStopping:\n",
        "    def __init__(self, patience=PATIENCE, verbose=False):\n",
        "        self.patience = patience\n",
        "        self.verbose = verbose\n",
        "        self.counter = 0\n",
        "        self.best_score = None\n",
        "        self.early_stop = False\n",
        "        self.best_state = None\n",
        "\n",
        "    def __call__(self, val_acc, model):\n",
        "        score = val_acc\n",
        "        if self.best_score is None or score > self.best_score:\n",
        "            self.best_score = score\n",
        "            self.best_state = model.state_dict()\n",
        "            self.counter = 0\n",
        "            if self.verbose:\n",
        "                print(f\"Validation accuracy improved: {score:.4f}\")\n",
        "        else:\n",
        "            self.counter += 1\n",
        "            if self.verbose:\n",
        "                print(f\"EarlyStopping counter: {self.counter}/{self.patience}\")\n",
        "            if self.counter >= self.patience:\n",
        "                self.early_stop = True\n"
      ],
      "metadata": {
        "id": "iq6kG3WWkutD",
        "colab": {
          "base_uri": "https://localhost:8080/"
        },
        "outputId": "4c83e950-e104-4663-e944-eb6ee0671164"
      },
      "execution_count": null,
      "outputs": [
        {
          "output_type": "stream",
          "name": "stderr",
          "text": [
            "/usr/local/lib/python3.11/dist-packages/torchvision/models/_utils.py:208: UserWarning: The parameter 'pretrained' is deprecated since 0.13 and may be removed in the future, please use 'weights' instead.\n",
            "  warnings.warn(\n",
            "/usr/local/lib/python3.11/dist-packages/torchvision/models/_utils.py:223: UserWarning: Arguments other than a weight enum or `None` for 'weights' are deprecated since 0.13 and may be removed in the future. The current behavior is equivalent to passing `weights=EfficientNet_B0_Weights.IMAGENET1K_V1`. You can also use `weights=EfficientNet_B0_Weights.DEFAULT` to get the most up-to-date weights.\n",
            "  warnings.warn(msg)\n",
            "Downloading: \"https://download.pytorch.org/models/efficientnet_b0_rwightman-7f5810bc.pth\" to /root/.cache/torch/hub/checkpoints/efficientnet_b0_rwightman-7f5810bc.pth\n",
            "100%|██████████| 20.5M/20.5M [00:00<00:00, 149MB/s]\n",
            "/usr/local/lib/python3.11/dist-packages/torch/optim/lr_scheduler.py:62: UserWarning: The verbose parameter is deprecated. Please use get_last_lr() to access the learning rate.\n",
            "  warnings.warn(\n"
          ]
        }
      ]
    },
    {
      "cell_type": "code",
      "source": [
        "import os\n",
        "os.environ['CUDA_LAUNCH_BLOCKING'] = '1'\n"
      ],
      "metadata": {
        "id": "6kW-JzkfCcxj"
      },
      "execution_count": null,
      "outputs": []
    },
    {
      "cell_type": "code",
      "source": [
        "# === IV. Training Loop ===\n",
        "\n",
        "def train_model(model, criterion, optimizer, scheduler, num_epochs=EPOCHS):\n",
        "    early_stopping = EarlyStopping(patience=PATIENCE, verbose=True)\n",
        "\n",
        "    for epoch in range(num_epochs):\n",
        "        model.train()\n",
        "        train_loss = 0\n",
        "        train_correct = 0\n",
        "\n",
        "        for images, labels in tqdm(train_loader, desc=f\"Epoch {epoch+1}/{num_epochs} - Training\"):\n",
        "            images, labels = images.to(device), labels.to(device)\n",
        "\n",
        "            optimizer.zero_grad()\n",
        "            outputs = model(images)\n",
        "            loss = criterion(outputs, labels)\n",
        "            loss.backward()\n",
        "            optimizer.step()\n",
        "\n",
        "            train_loss += loss.item() * images.size(0)\n",
        "            _, preds = torch.max(outputs, 1)\n",
        "            train_correct += torch.sum(preds == labels)\n",
        "\n",
        "        train_loss /= len(train_loader.dataset)\n",
        "        train_acc = train_correct.double() / len(train_loader.dataset)\n",
        "\n",
        "        # Validation\n",
        "        model.eval()\n",
        "        val_loss = 0\n",
        "        val_correct = 0\n",
        "\n",
        "        with torch.no_grad():\n",
        "            for images, labels in val_loader:\n",
        "                images, labels = images.to(device), labels.to(device)\n",
        "                outputs = model(images)\n",
        "                loss = criterion(outputs, labels)\n",
        "                val_loss += loss.item() * images.size(0)\n",
        "                _, preds = torch.max(outputs, 1)\n",
        "                val_correct += torch.sum(preds == labels)\n",
        "\n",
        "        val_loss /= len(val_loader.dataset)\n",
        "        val_acc = val_correct.double() / len(val_loader.dataset)\n",
        "\n",
        "        print(f\"Epoch {epoch+1}: Train Loss: {train_loss:.4f}, Train Acc: {train_acc:.4f}, \"\n",
        "              f\"Val Loss: {val_loss:.4f}, Val Acc: {val_acc:.4f}\")\n",
        "\n",
        "        scheduler.step(val_acc)\n",
        "\n",
        "        early_stopping(val_acc, model)\n",
        "        if early_stopping.early_stop:\n",
        "            print(\"Early stopping triggered.\")\n",
        "            break\n",
        "\n",
        "    # Load best model\n",
        "    model.load_state_dict(early_stopping.best_state)\n",
        "    return model"
      ],
      "metadata": {
        "id": "RgSAC8Fkw94S"
      },
      "execution_count": null,
      "outputs": []
    },
    {
      "cell_type": "code",
      "source": [
        "model = train_model(model, criterion, optimizer, scheduler)"
      ],
      "metadata": {
        "colab": {
          "base_uri": "https://localhost:8080/"
        },
        "id": "wKImWzsBlEvq",
        "outputId": "b761c976-bf6d-4d11-8897-081c6e902119"
      },
      "execution_count": null,
      "outputs": [
        {
          "output_type": "stream",
          "name": "stderr",
          "text": [
            "Epoch 1/20 - Training: 100%|██████████| 731/731 [13:46<00:00,  1.13s/it]\n"
          ]
        },
        {
          "output_type": "stream",
          "name": "stdout",
          "text": [
            "Epoch 1: Train Loss: 1.6065, Train Acc: 0.3708, Val Loss: 1.5066, Val Acc: 0.4134\n",
            "Validation accuracy improved: 0.4134\n"
          ]
        },
        {
          "output_type": "stream",
          "name": "stderr",
          "text": [
            "Epoch 2/20 - Training: 100%|██████████| 731/731 [01:47<00:00,  6.83it/s]\n"
          ]
        },
        {
          "output_type": "stream",
          "name": "stdout",
          "text": [
            "Epoch 2: Train Loss: 1.5225, Train Acc: 0.4084, Val Loss: 1.4566, Val Acc: 0.4365\n",
            "Validation accuracy improved: 0.4365\n"
          ]
        },
        {
          "output_type": "stream",
          "name": "stderr",
          "text": [
            "Epoch 3/20 - Training: 100%|██████████| 731/731 [01:46<00:00,  6.86it/s]\n"
          ]
        },
        {
          "output_type": "stream",
          "name": "stdout",
          "text": [
            "Epoch 3: Train Loss: 1.4890, Train Acc: 0.4196, Val Loss: 1.4335, Val Acc: 0.4435\n",
            "Validation accuracy improved: 0.4435\n"
          ]
        },
        {
          "output_type": "stream",
          "name": "stderr",
          "text": [
            "Epoch 4/20 - Training: 100%|██████████| 731/731 [01:45<00:00,  6.92it/s]\n"
          ]
        },
        {
          "output_type": "stream",
          "name": "stdout",
          "text": [
            "Epoch 4: Train Loss: 1.4723, Train Acc: 0.4279, Val Loss: 1.4253, Val Acc: 0.4581\n",
            "Validation accuracy improved: 0.4581\n"
          ]
        },
        {
          "output_type": "stream",
          "name": "stderr",
          "text": [
            "Epoch 5/20 - Training: 100%|██████████| 731/731 [01:45<00:00,  6.96it/s]\n"
          ]
        },
        {
          "output_type": "stream",
          "name": "stdout",
          "text": [
            "Epoch 5: Train Loss: 1.4610, Train Acc: 0.4331, Val Loss: 1.4137, Val Acc: 0.4598\n",
            "Validation accuracy improved: 0.4598\n"
          ]
        },
        {
          "output_type": "stream",
          "name": "stderr",
          "text": [
            "Epoch 6/20 - Training: 100%|██████████| 731/731 [01:45<00:00,  6.94it/s]\n"
          ]
        },
        {
          "output_type": "stream",
          "name": "stdout",
          "text": [
            "Epoch 6: Train Loss: 1.4441, Train Acc: 0.4396, Val Loss: 1.4098, Val Acc: 0.4564\n",
            "EarlyStopping counter: 1/5\n"
          ]
        },
        {
          "output_type": "stream",
          "name": "stderr",
          "text": [
            "Epoch 7/20 - Training: 100%|██████████| 731/731 [01:44<00:00,  6.98it/s]\n"
          ]
        },
        {
          "output_type": "stream",
          "name": "stdout",
          "text": [
            "Epoch 7: Train Loss: 1.4379, Train Acc: 0.4453, Val Loss: 1.3937, Val Acc: 0.4704\n",
            "Validation accuracy improved: 0.4704\n"
          ]
        },
        {
          "output_type": "stream",
          "name": "stderr",
          "text": [
            "Epoch 8/20 - Training: 100%|██████████| 731/731 [01:51<00:00,  6.56it/s]\n"
          ]
        },
        {
          "output_type": "stream",
          "name": "stdout",
          "text": [
            "Epoch 8: Train Loss: 1.4200, Train Acc: 0.4544, Val Loss: 1.3974, Val Acc: 0.4646\n",
            "EarlyStopping counter: 1/5\n"
          ]
        },
        {
          "output_type": "stream",
          "name": "stderr",
          "text": [
            "Epoch 9/20 - Training: 100%|██████████| 731/731 [01:47<00:00,  6.82it/s]\n"
          ]
        },
        {
          "output_type": "stream",
          "name": "stdout",
          "text": [
            "Epoch 9: Train Loss: 1.4150, Train Acc: 0.4546, Val Loss: 1.3871, Val Acc: 0.4678\n",
            "EarlyStopping counter: 2/5\n"
          ]
        },
        {
          "output_type": "stream",
          "name": "stderr",
          "text": [
            "Epoch 10/20 - Training: 100%|██████████| 731/731 [01:45<00:00,  6.91it/s]\n"
          ]
        },
        {
          "output_type": "stream",
          "name": "stdout",
          "text": [
            "Epoch 10: Train Loss: 1.4044, Train Acc: 0.4621, Val Loss: 1.3943, Val Acc: 0.4685\n",
            "EarlyStopping counter: 3/5\n"
          ]
        },
        {
          "output_type": "stream",
          "name": "stderr",
          "text": [
            "Epoch 11/20 - Training: 100%|██████████| 731/731 [01:47<00:00,  6.79it/s]\n"
          ]
        },
        {
          "output_type": "stream",
          "name": "stdout",
          "text": [
            "Epoch 11: Train Loss: 1.3842, Train Acc: 0.4671, Val Loss: 1.3648, Val Acc: 0.4817\n",
            "Validation accuracy improved: 0.4817\n"
          ]
        },
        {
          "output_type": "stream",
          "name": "stderr",
          "text": [
            "Epoch 12/20 - Training: 100%|██████████| 731/731 [01:46<00:00,  6.84it/s]\n"
          ]
        },
        {
          "output_type": "stream",
          "name": "stdout",
          "text": [
            "Epoch 12: Train Loss: 1.3739, Train Acc: 0.4740, Val Loss: 1.3676, Val Acc: 0.4791\n",
            "EarlyStopping counter: 1/5\n"
          ]
        },
        {
          "output_type": "stream",
          "name": "stderr",
          "text": [
            "Epoch 13/20 - Training: 100%|██████████| 731/731 [01:46<00:00,  6.86it/s]\n"
          ]
        },
        {
          "output_type": "stream",
          "name": "stdout",
          "text": [
            "Epoch 13: Train Loss: 1.3717, Train Acc: 0.4734, Val Loss: 1.3661, Val Acc: 0.4750\n",
            "EarlyStopping counter: 2/5\n"
          ]
        },
        {
          "output_type": "stream",
          "name": "stderr",
          "text": [
            "Epoch 14/20 - Training: 100%|██████████| 731/731 [01:49<00:00,  6.70it/s]\n"
          ]
        },
        {
          "output_type": "stream",
          "name": "stdout",
          "text": [
            "Epoch 14: Train Loss: 1.3661, Train Acc: 0.4781, Val Loss: 1.3543, Val Acc: 0.4863\n",
            "Validation accuracy improved: 0.4863\n"
          ]
        },
        {
          "output_type": "stream",
          "name": "stderr",
          "text": [
            "Epoch 15/20 - Training: 100%|██████████| 731/731 [01:46<00:00,  6.84it/s]\n"
          ]
        },
        {
          "output_type": "stream",
          "name": "stdout",
          "text": [
            "Epoch 15: Train Loss: 1.3575, Train Acc: 0.4776, Val Loss: 1.3613, Val Acc: 0.4851\n",
            "EarlyStopping counter: 1/5\n"
          ]
        },
        {
          "output_type": "stream",
          "name": "stderr",
          "text": [
            "Epoch 16/20 - Training: 100%|██████████| 731/731 [01:47<00:00,  6.77it/s]\n"
          ]
        },
        {
          "output_type": "stream",
          "name": "stdout",
          "text": [
            "Epoch 16: Train Loss: 1.3512, Train Acc: 0.4812, Val Loss: 1.3629, Val Acc: 0.4781\n",
            "EarlyStopping counter: 2/5\n"
          ]
        },
        {
          "output_type": "stream",
          "name": "stderr",
          "text": [
            "Epoch 17/20 - Training: 100%|██████████| 731/731 [01:46<00:00,  6.88it/s]\n"
          ]
        },
        {
          "output_type": "stream",
          "name": "stdout",
          "text": [
            "Epoch 17: Train Loss: 1.3528, Train Acc: 0.4840, Val Loss: 1.3595, Val Acc: 0.4841\n",
            "EarlyStopping counter: 3/5\n"
          ]
        },
        {
          "output_type": "stream",
          "name": "stderr",
          "text": [
            "Epoch 18/20 - Training: 100%|██████████| 731/731 [01:51<00:00,  6.54it/s]\n"
          ]
        },
        {
          "output_type": "stream",
          "name": "stdout",
          "text": [
            "Epoch 18: Train Loss: 1.3362, Train Acc: 0.4921, Val Loss: 1.3486, Val Acc: 0.4942\n",
            "Validation accuracy improved: 0.4942\n"
          ]
        },
        {
          "output_type": "stream",
          "name": "stderr",
          "text": [
            "Epoch 19/20 - Training: 100%|██████████| 731/731 [01:51<00:00,  6.55it/s]\n"
          ]
        },
        {
          "output_type": "stream",
          "name": "stdout",
          "text": [
            "Epoch 19: Train Loss: 1.3294, Train Acc: 0.4958, Val Loss: 1.3467, Val Acc: 0.4916\n",
            "EarlyStopping counter: 1/5\n"
          ]
        },
        {
          "output_type": "stream",
          "name": "stderr",
          "text": [
            "Epoch 20/20 - Training: 100%|██████████| 731/731 [01:47<00:00,  6.78it/s]\n"
          ]
        },
        {
          "output_type": "stream",
          "name": "stdout",
          "text": [
            "Epoch 20: Train Loss: 1.3294, Train Acc: 0.4921, Val Loss: 1.3406, Val Acc: 0.4925\n",
            "EarlyStopping counter: 2/5\n"
          ]
        }
      ]
    },
    {
      "cell_type": "code",
      "source": [
        "# Define the path where you want to save the model\n",
        "model_path = \"/content/MyDrive/MyDrive/M.Sc Data Science/Sem 4/CV/trained_model.pth\"\n",
        "\n",
        "# Save the model's state dict\n",
        "torch.save(model.state_dict(), model_path)\n",
        "print(f\"Model saved to {model_path}\")"
      ],
      "metadata": {
        "colab": {
          "base_uri": "https://localhost:8080/"
        },
        "id": "wfRcihjqTQX7",
        "outputId": "877184f8-6d02-41cc-ba56-bc8d058d1397"
      },
      "execution_count": null,
      "outputs": [
        {
          "output_type": "stream",
          "name": "stdout",
          "text": [
            "Model saved to /content/MyDrive/MyDrive/trained_model.pth\n"
          ]
        }
      ]
    },
    {
      "cell_type": "code",
      "source": [
        "model = create_model('efficientnet_b0', NUM_CLASSES, pretrained=True)\n",
        "# Load the saved weights\n",
        "model.load_state_dict(torch.load(\"/content/MyDrive/MyDrive/M.Sc Data Science/Sem 4/CV/trained_model.pth\"))\n",
        "#moving to gpu\n",
        "model = model.to(device)"
      ],
      "metadata": {
        "id": "hHQHnyijVdlC"
      },
      "execution_count": null,
      "outputs": []
    },
    {
      "cell_type": "code",
      "source": [],
      "metadata": {
        "id": "B81urQxZh5PW"
      },
      "execution_count": null,
      "outputs": []
    },
    {
      "cell_type": "code",
      "source": [
        "\n",
        "# === VI. Fine-tuning (Optional, day 19-20) ===\n",
        "\n",
        "def fine_tune(model, base_model_name='efficientnet_b0', learning_rate=1e-5, epochs=25):\n",
        "    # Unfreeze last layers for fine tuning\n",
        "    if base_model_name == 'efficientnet_b0':\n",
        "        for param in model.parameters():\n",
        "            param.requires_grad = True  # Unfreeze all\n",
        "    elif base_model_name == 'resnet50':\n",
        "        for param in model.parameters():\n",
        "            param.requires_grad = True\n",
        "\n",
        "    optimizer = optim.Adam(model.parameters(), lr=learning_rate)\n",
        "    scheduler = optim.lr_scheduler.ReduceLROnPlateau(optimizer, mode='max', factor=0.5, patience=2, verbose=True)\n",
        "\n",
        "    model = train_model(model, criterion, optimizer, scheduler, num_epochs=epochs)\n",
        "    return model\n",
        "\n",
        "# Example:\n",
        "# model = fine_tune(model, 'efficientnet_b0')"
      ],
      "metadata": {
        "id": "OeCFzvjiEKKv"
      },
      "execution_count": null,
      "outputs": []
    },
    {
      "cell_type": "code",
      "source": [
        "# Example if using EfficientNet-B0:\n",
        "fine_tuned_model = fine_tune(model, base_model_name='efficientnet_b0', learning_rate=1e-5, epochs=25)"
      ],
      "metadata": {
        "colab": {
          "base_uri": "https://localhost:8080/"
        },
        "id": "_OBpg1vwTmZD",
        "outputId": "8d5d77b1-e4d0-4525-b6cc-ddbfb87b97a7"
      },
      "execution_count": null,
      "outputs": [
        {
          "output_type": "stream",
          "name": "stderr",
          "text": [
            "Epoch 1/25 - Training: 100%|██████████| 749/749 [08:52<00:00,  1.41it/s]\n"
          ]
        },
        {
          "output_type": "stream",
          "name": "stdout",
          "text": [
            "Epoch 1: Train Loss: 1.3094, Train Acc: 0.5009, Val Loss: 1.0790, Val Acc: 0.6017\n",
            "Validation accuracy improved: 0.6017\n"
          ]
        },
        {
          "output_type": "stream",
          "name": "stderr",
          "text": [
            "Epoch 2/25 - Training: 100%|██████████| 749/749 [02:15<00:00,  5.51it/s]\n"
          ]
        },
        {
          "output_type": "stream",
          "name": "stdout",
          "text": [
            "Epoch 2: Train Loss: 1.2354, Train Acc: 0.5340, Val Loss: 1.0406, Val Acc: 0.6149\n",
            "Validation accuracy improved: 0.6149\n"
          ]
        },
        {
          "output_type": "stream",
          "name": "stderr",
          "text": [
            "Epoch 3/25 - Training: 100%|██████████| 749/749 [02:14<00:00,  5.56it/s]\n"
          ]
        },
        {
          "output_type": "stream",
          "name": "stdout",
          "text": [
            "Epoch 3: Train Loss: 1.1797, Train Acc: 0.5516, Val Loss: 1.0184, Val Acc: 0.6317\n",
            "Validation accuracy improved: 0.6317\n"
          ]
        },
        {
          "output_type": "stream",
          "name": "stderr",
          "text": [
            "Epoch 4/25 - Training: 100%|██████████| 749/749 [02:17<00:00,  5.46it/s]\n"
          ]
        },
        {
          "output_type": "stream",
          "name": "stdout",
          "text": [
            "Epoch 4: Train Loss: 1.1392, Train Acc: 0.5699, Val Loss: 1.0022, Val Acc: 0.6359\n",
            "Validation accuracy improved: 0.6359\n"
          ]
        },
        {
          "output_type": "stream",
          "name": "stderr",
          "text": [
            "Epoch 5/25 - Training: 100%|██████████| 749/749 [02:15<00:00,  5.52it/s]\n"
          ]
        },
        {
          "output_type": "stream",
          "name": "stdout",
          "text": [
            "Epoch 5: Train Loss: 1.1110, Train Acc: 0.5850, Val Loss: 0.9891, Val Acc: 0.6412\n",
            "Validation accuracy improved: 0.6412\n"
          ]
        },
        {
          "output_type": "stream",
          "name": "stderr",
          "text": [
            "Epoch 6/25 - Training: 100%|██████████| 749/749 [02:15<00:00,  5.52it/s]\n"
          ]
        },
        {
          "output_type": "stream",
          "name": "stdout",
          "text": [
            "Epoch 6: Train Loss: 1.0822, Train Acc: 0.5965, Val Loss: 0.9770, Val Acc: 0.6444\n",
            "Validation accuracy improved: 0.6444\n"
          ]
        },
        {
          "output_type": "stream",
          "name": "stderr",
          "text": [
            "Epoch 7/25 - Training: 100%|██████████| 749/749 [02:16<00:00,  5.51it/s]\n"
          ]
        },
        {
          "output_type": "stream",
          "name": "stdout",
          "text": [
            "Epoch 7: Train Loss: 1.0434, Train Acc: 0.6072, Val Loss: 0.9647, Val Acc: 0.6513\n",
            "Validation accuracy improved: 0.6513\n"
          ]
        },
        {
          "output_type": "stream",
          "name": "stderr",
          "text": [
            "Epoch 8/25 - Training: 100%|██████████| 749/749 [02:14<00:00,  5.57it/s]\n"
          ]
        },
        {
          "output_type": "stream",
          "name": "stdout",
          "text": [
            "Epoch 8: Train Loss: 1.0165, Train Acc: 0.6186, Val Loss: 0.9483, Val Acc: 0.6586\n",
            "Validation accuracy improved: 0.6586\n"
          ]
        },
        {
          "output_type": "stream",
          "name": "stderr",
          "text": [
            "Epoch 9/25 - Training: 100%|██████████| 749/749 [02:15<00:00,  5.52it/s]\n"
          ]
        },
        {
          "output_type": "stream",
          "name": "stdout",
          "text": [
            "Epoch 9: Train Loss: 0.9954, Train Acc: 0.6271, Val Loss: 0.9402, Val Acc: 0.6574\n",
            "EarlyStopping counter: 1/5\n"
          ]
        },
        {
          "output_type": "stream",
          "name": "stderr",
          "text": [
            "Epoch 10/25 - Training: 100%|██████████| 749/749 [02:14<00:00,  5.58it/s]\n"
          ]
        },
        {
          "output_type": "stream",
          "name": "stdout",
          "text": [
            "Epoch 10: Train Loss: 0.9705, Train Acc: 0.6369, Val Loss: 0.9339, Val Acc: 0.6594\n",
            "Validation accuracy improved: 0.6594\n"
          ]
        },
        {
          "output_type": "stream",
          "name": "stderr",
          "text": [
            "Epoch 11/25 - Training: 100%|██████████| 749/749 [02:14<00:00,  5.59it/s]\n"
          ]
        },
        {
          "output_type": "stream",
          "name": "stdout",
          "text": [
            "Epoch 11: Train Loss: 0.9528, Train Acc: 0.6426, Val Loss: 0.9301, Val Acc: 0.6578\n",
            "EarlyStopping counter: 1/5\n"
          ]
        },
        {
          "output_type": "stream",
          "name": "stderr",
          "text": [
            "Epoch 12/25 - Training: 100%|██████████| 749/749 [02:16<00:00,  5.50it/s]\n"
          ]
        },
        {
          "output_type": "stream",
          "name": "stdout",
          "text": [
            "Epoch 12: Train Loss: 0.9235, Train Acc: 0.6555, Val Loss: 0.9228, Val Acc: 0.6683\n",
            "Validation accuracy improved: 0.6683\n"
          ]
        },
        {
          "output_type": "stream",
          "name": "stderr",
          "text": [
            "Epoch 13/25 - Training: 100%|██████████| 749/749 [02:16<00:00,  5.47it/s]\n"
          ]
        },
        {
          "output_type": "stream",
          "name": "stdout",
          "text": [
            "Epoch 13: Train Loss: 0.9161, Train Acc: 0.6593, Val Loss: 0.9230, Val Acc: 0.6621\n",
            "EarlyStopping counter: 1/5\n"
          ]
        },
        {
          "output_type": "stream",
          "name": "stderr",
          "text": [
            "Epoch 14/25 - Training: 100%|██████████| 749/749 [02:17<00:00,  5.46it/s]\n"
          ]
        },
        {
          "output_type": "stream",
          "name": "stdout",
          "text": [
            "Epoch 14: Train Loss: 0.8919, Train Acc: 0.6677, Val Loss: 0.9126, Val Acc: 0.6678\n",
            "EarlyStopping counter: 2/5\n"
          ]
        },
        {
          "output_type": "stream",
          "name": "stderr",
          "text": [
            "Epoch 15/25 - Training: 100%|██████████| 749/749 [02:14<00:00,  5.56it/s]\n"
          ]
        },
        {
          "output_type": "stream",
          "name": "stdout",
          "text": [
            "Epoch 15: Train Loss: 0.8740, Train Acc: 0.6747, Val Loss: 0.9019, Val Acc: 0.6726\n",
            "Validation accuracy improved: 0.6726\n"
          ]
        },
        {
          "output_type": "stream",
          "name": "stderr",
          "text": [
            "Epoch 16/25 - Training: 100%|██████████| 749/749 [02:14<00:00,  5.58it/s]\n"
          ]
        },
        {
          "output_type": "stream",
          "name": "stdout",
          "text": [
            "Epoch 16: Train Loss: 0.8492, Train Acc: 0.6842, Val Loss: 0.8989, Val Acc: 0.6756\n",
            "Validation accuracy improved: 0.6756\n"
          ]
        },
        {
          "output_type": "stream",
          "name": "stderr",
          "text": [
            "Epoch 17/25 - Training: 100%|██████████| 749/749 [02:17<00:00,  5.46it/s]\n"
          ]
        },
        {
          "output_type": "stream",
          "name": "stdout",
          "text": [
            "Epoch 17: Train Loss: 0.8298, Train Acc: 0.6925, Val Loss: 0.8971, Val Acc: 0.6750\n",
            "EarlyStopping counter: 1/5\n"
          ]
        },
        {
          "output_type": "stream",
          "name": "stderr",
          "text": [
            "Epoch 18/25 - Training: 100%|██████████| 749/749 [02:14<00:00,  5.56it/s]\n"
          ]
        },
        {
          "output_type": "stream",
          "name": "stdout",
          "text": [
            "Epoch 18: Train Loss: 0.8193, Train Acc: 0.6951, Val Loss: 0.8934, Val Acc: 0.6811\n",
            "Validation accuracy improved: 0.6811\n"
          ]
        },
        {
          "output_type": "stream",
          "name": "stderr",
          "text": [
            "Epoch 19/25 - Training: 100%|██████████| 749/749 [02:12<00:00,  5.63it/s]\n"
          ]
        },
        {
          "output_type": "stream",
          "name": "stdout",
          "text": [
            "Epoch 19: Train Loss: 0.8015, Train Acc: 0.7030, Val Loss: 0.8944, Val Acc: 0.6793\n",
            "EarlyStopping counter: 1/5\n"
          ]
        },
        {
          "output_type": "stream",
          "name": "stderr",
          "text": [
            "Epoch 20/25 - Training: 100%|██████████| 749/749 [02:15<00:00,  5.53it/s]\n"
          ]
        },
        {
          "output_type": "stream",
          "name": "stdout",
          "text": [
            "Epoch 20: Train Loss: 0.7810, Train Acc: 0.7086, Val Loss: 0.8998, Val Acc: 0.6773\n",
            "EarlyStopping counter: 2/5\n"
          ]
        },
        {
          "output_type": "stream",
          "name": "stderr",
          "text": [
            "Epoch 21/25 - Training: 100%|██████████| 749/749 [02:16<00:00,  5.49it/s]\n"
          ]
        },
        {
          "output_type": "stream",
          "name": "stdout",
          "text": [
            "Epoch 21: Train Loss: 0.7678, Train Acc: 0.7137, Val Loss: 0.8973, Val Acc: 0.6823\n",
            "Validation accuracy improved: 0.6823\n"
          ]
        },
        {
          "output_type": "stream",
          "name": "stderr",
          "text": [
            "Epoch 22/25 - Training: 100%|██████████| 749/749 [02:16<00:00,  5.51it/s]\n"
          ]
        },
        {
          "output_type": "stream",
          "name": "stdout",
          "text": [
            "Epoch 22: Train Loss: 0.7550, Train Acc: 0.7185, Val Loss: 0.8946, Val Acc: 0.6806\n",
            "EarlyStopping counter: 1/5\n"
          ]
        },
        {
          "output_type": "stream",
          "name": "stderr",
          "text": [
            "Epoch 23/25 - Training: 100%|██████████| 749/749 [02:15<00:00,  5.52it/s]\n"
          ]
        },
        {
          "output_type": "stream",
          "name": "stdout",
          "text": [
            "Epoch 23: Train Loss: 0.7387, Train Acc: 0.7234, Val Loss: 0.8883, Val Acc: 0.6823\n",
            "EarlyStopping counter: 2/5\n"
          ]
        },
        {
          "output_type": "stream",
          "name": "stderr",
          "text": [
            "Epoch 24/25 - Training: 100%|██████████| 749/749 [02:16<00:00,  5.47it/s]\n"
          ]
        },
        {
          "output_type": "stream",
          "name": "stdout",
          "text": [
            "Epoch 24: Train Loss: 0.7198, Train Acc: 0.7305, Val Loss: 0.8896, Val Acc: 0.6818\n",
            "EarlyStopping counter: 3/5\n"
          ]
        },
        {
          "output_type": "stream",
          "name": "stderr",
          "text": [
            "Epoch 25/25 - Training: 100%|██████████| 749/749 [02:14<00:00,  5.57it/s]\n"
          ]
        },
        {
          "output_type": "stream",
          "name": "stdout",
          "text": [
            "Epoch 25: Train Loss: 0.7067, Train Acc: 0.7351, Val Loss: 0.8988, Val Acc: 0.6868\n",
            "Validation accuracy improved: 0.6868\n"
          ]
        }
      ]
    },
    {
      "cell_type": "code",
      "source": [
        "torch.save(fine_tuned_model.state_dict(), \"/content/MyDrive/MyDrive/M.Sc Data Science/Sem 4/CV/eff_fine_tuned_model.pth\")"
      ],
      "metadata": {
        "id": "N4ZxRLXAT99c"
      },
      "execution_count": null,
      "outputs": []
    },
    {
      "cell_type": "code",
      "source": [
        "# === V. Evaluation on Test Set ===\n",
        "\n",
        "def evaluate_model(model, dataloader):\n",
        "    model.eval()\n",
        "    all_preds = []\n",
        "    all_labels = []\n",
        "    with torch.no_grad():\n",
        "        for images, labels in dataloader:\n",
        "            images = images.to(device)\n",
        "            outputs = model(images)\n",
        "            _, preds = torch.max(outputs, 1)\n",
        "            all_preds.extend(preds.cpu().numpy())\n",
        "            all_labels.extend(labels.numpy())\n",
        "\n",
        "    print(\"Classification Report:\")\n",
        "    print(classification_report(all_labels, all_preds, digits=4))\n",
        "\n",
        "    cm = confusion_matrix(all_labels, all_preds)\n",
        "    print(\"Confusion Matrix:\")\n",
        "    print(cm)\n",
        "\n",
        "evaluate_model(model, test_loader)"
      ],
      "metadata": {
        "id": "lLnwF-jJVU9y",
        "colab": {
          "base_uri": "https://localhost:8080/"
        },
        "outputId": "88e3dcfe-4e9d-412d-9c4f-24b218945c1d"
      },
      "execution_count": null,
      "outputs": [
        {
          "output_type": "stream",
          "name": "stdout",
          "text": [
            "Classification Report:\n",
            "              precision    recall  f1-score   support\n",
            "\n",
            "           0     0.5035    0.5292    0.5160       958\n",
            "           1     0.7667    0.4144    0.5380       111\n",
            "           2     0.5438    0.3370    0.4161      1454\n",
            "           3     0.7956    0.8687    0.8305      1774\n",
            "           4     0.4840    0.6853    0.5673      1233\n",
            "           5     0.5919    0.5272    0.5577      1857\n",
            "           6     0.7065    0.7762    0.7397       831\n",
            "\n",
            "    accuracy                         0.6149      8218\n",
            "   macro avg     0.6274    0.5911    0.5950      8218\n",
            "weighted avg     0.6148    0.6149    0.6063      8218\n",
            "\n",
            "Confusion Matrix:\n",
            "[[ 507    5   83   68  140  121   34]\n",
            " [  31   46    4    7    9   12    2]\n",
            " [ 197    2  490   83  208  315  159]\n",
            " [  32    2   25 1541  104   36   34]\n",
            " [  60    0   47   91  845  172   18]\n",
            " [ 158    5  186  103  405  979   21]\n",
            " [  22    0   66   44   35   19  645]]\n"
          ]
        }
      ]
    },
    {
      "cell_type": "code",
      "source": [
        "\n",
        "# === V. Evaluation on Test Set ===\n",
        "\n",
        "def evaluate_model(model, dataloader):\n",
        "    model.eval()\n",
        "    all_preds = []\n",
        "    all_labels = []\n",
        "    with torch.no_grad():\n",
        "        for images, labels in dataloader:\n",
        "            images = images.to(device)\n",
        "            outputs = model(images)\n",
        "            _, preds = torch.max(outputs, 1)\n",
        "            all_preds.extend(preds.cpu().numpy())\n",
        "            all_labels.extend(labels.numpy())\n",
        "\n",
        "    print(\"Classification Report:\")\n",
        "    print(classification_report(all_labels, all_preds, digits=4))\n",
        "\n",
        "    cm = confusion_matrix(all_labels, all_preds)\n",
        "    print(\"Confusion Matrix:\")\n",
        "    print(cm)\n",
        "\n",
        "evaluate_model(fine_tuned_model, test_loader)"
      ],
      "metadata": {
        "id": "Lqxu3Sw0Z0R5"
      },
      "execution_count": null,
      "outputs": []
    },
    {
      "cell_type": "code",
      "source": [
        "evaluate_model(fine_tuned_model, test_loader)"
      ],
      "metadata": {
        "id": "VYFOSC86aARy",
        "colab": {
          "base_uri": "https://localhost:8080/"
        },
        "outputId": "68e099a9-1582-4516-a7be-9b50c4bb15ee"
      },
      "execution_count": null,
      "outputs": [
        {
          "output_type": "stream",
          "name": "stderr",
          "text": [
            "/usr/local/lib/python3.11/dist-packages/torch/utils/data/dataloader.py:624: UserWarning: This DataLoader will create 16 worker processes in total. Our suggested max number of worker in current system is 2, which is smaller than what this DataLoader is going to create. Please be aware that excessive worker creation might get DataLoader running slow or even freeze, lower the worker number to avoid potential slowness/freeze if necessary.\n",
            "  warnings.warn(\n"
          ]
        },
        {
          "output_type": "stream",
          "name": "stdout",
          "text": [
            "Classification Report:\n",
            "              precision    recall  f1-score   support\n",
            "\n",
            "           0     0.5035    0.5292    0.5160       958\n",
            "           1     0.7667    0.4144    0.5380       111\n",
            "           2     0.5438    0.3370    0.4161      1454\n",
            "           3     0.7956    0.8687    0.8305      1774\n",
            "           4     0.4840    0.6853    0.5673      1233\n",
            "           5     0.5919    0.5272    0.5577      1857\n",
            "           6     0.7065    0.7762    0.7397       831\n",
            "\n",
            "    accuracy                         0.6149      8218\n",
            "   macro avg     0.6274    0.5911    0.5950      8218\n",
            "weighted avg     0.6148    0.6149    0.6063      8218\n",
            "\n",
            "Confusion Matrix:\n",
            "[[ 507    5   83   68  140  121   34]\n",
            " [  31   46    4    7    9   12    2]\n",
            " [ 197    2  490   83  208  315  159]\n",
            " [  32    2   25 1541  104   36   34]\n",
            " [  60    0   47   91  845  172   18]\n",
            " [ 158    5  186  103  405  979   21]\n",
            " [  22    0   66   44   35   19  645]]\n"
          ]
        }
      ]
    },
    {
      "cell_type": "code",
      "source": [
        "class_names = ['Angry', 'Disgusted', 'Fearful', 'Happy', 'Neutral', 'Sad', 'Surprised']"
      ],
      "metadata": {
        "id": "zG70rQL1h-FB"
      },
      "execution_count": null,
      "outputs": []
    },
    {
      "cell_type": "code",
      "source": [
        "from sklearn.metrics import classification_report, confusion_matrix\n",
        "import torch\n",
        "\n",
        "def evaluate_model(model, dataloader, class_names):\n",
        "    model.eval()\n",
        "    all_preds = []\n",
        "    all_labels = []\n",
        "    with torch.no_grad():\n",
        "        for images, labels in dataloader:\n",
        "            images = images.to(device)\n",
        "            outputs = model(images)\n",
        "            _, preds = torch.max(outputs, 1)\n",
        "            all_preds.extend(preds.cpu().numpy())\n",
        "            all_labels.extend(labels.numpy())\n",
        "\n",
        "    print(\"Classification Report:\")\n",
        "    print(classification_report(all_labels, all_preds, target_names=class_names, digits=4))\n",
        "\n",
        "    cm = confusion_matrix(all_labels, all_preds)\n",
        "    print(\"Confusion Matrix:\")\n",
        "    print(cm)\n",
        "\n",
        "    return cm\n"
      ],
      "metadata": {
        "id": "qaUjwJyjgJte"
      },
      "execution_count": null,
      "outputs": []
    },
    {
      "cell_type": "code",
      "source": [
        "import seaborn as sns\n",
        "import matplotlib.pyplot as plt\n",
        "\n",
        "def plot_confusion_matrix(cm, class_names):\n",
        "    plt.figure(figsize=(8, 6))\n",
        "    sns.heatmap(cm, annot=True, fmt='d', cmap='Blues',\n",
        "                xticklabels=class_names, yticklabels=class_names)\n",
        "    plt.xlabel('Predicted')\n",
        "    plt.ylabel('True')\n",
        "    plt.title('Confusion Matrix')\n",
        "    plt.show()\n"
      ],
      "metadata": {
        "id": "0aTFPzH5i5m2"
      },
      "execution_count": null,
      "outputs": []
    },
    {
      "cell_type": "code",
      "source": [
        "cm = evaluate_model(fine_tuned_model, test_loader, class_names)\n",
        "\n",
        "plot_confusion_matrix(cm, class_names)\n"
      ],
      "metadata": {
        "colab": {
          "base_uri": "https://localhost:8080/",
          "height": 1000
        },
        "id": "d3PirF7Bipky",
        "outputId": "dab3c1a1-11bd-4556-f7cd-de86b9af0e7c"
      },
      "execution_count": null,
      "outputs": [
        {
          "output_type": "stream",
          "name": "stderr",
          "text": [
            "/usr/local/lib/python3.11/dist-packages/torch/utils/data/dataloader.py:624: UserWarning: This DataLoader will create 16 worker processes in total. Our suggested max number of worker in current system is 2, which is smaller than what this DataLoader is going to create. Please be aware that excessive worker creation might get DataLoader running slow or even freeze, lower the worker number to avoid potential slowness/freeze if necessary.\n",
            "  warnings.warn(\n"
          ]
        },
        {
          "output_type": "stream",
          "name": "stdout",
          "text": [
            "Classification Report:\n",
            "              precision    recall  f1-score   support\n",
            "\n",
            "       Angry     0.5035    0.5292    0.5160       958\n",
            "   Disgusted     0.7667    0.4144    0.5380       111\n",
            "     Fearful     0.5438    0.3370    0.4161      1454\n",
            "       Happy     0.7956    0.8687    0.8305      1774\n",
            "     Neutral     0.4840    0.6853    0.5673      1233\n",
            "         Sad     0.5919    0.5272    0.5577      1857\n",
            "   Surprised     0.7065    0.7762    0.7397       831\n",
            "\n",
            "    accuracy                         0.6149      8218\n",
            "   macro avg     0.6274    0.5911    0.5950      8218\n",
            "weighted avg     0.6148    0.6149    0.6063      8218\n",
            "\n",
            "Confusion Matrix:\n",
            "[[ 507    5   83   68  140  121   34]\n",
            " [  31   46    4    7    9   12    2]\n",
            " [ 197    2  490   83  208  315  159]\n",
            " [  32    2   25 1541  104   36   34]\n",
            " [  60    0   47   91  845  172   18]\n",
            " [ 158    5  186  103  405  979   21]\n",
            " [  22    0   66   44   35   19  645]]\n"
          ]
        },
        {
          "output_type": "display_data",
          "data": {
            "text/plain": [
              "<Figure size 800x600 with 2 Axes>"
            ],
            "image/png": "[encoded data removed]"
          },
          "metadata": {}
        }
      ]
    },
    {
      "cell_type": "code",
      "source": [],
      "metadata": {
        "id": "QDNV6ICvi6u2"
      },
      "execution_count": null,
      "outputs": []
    }
  ]
}